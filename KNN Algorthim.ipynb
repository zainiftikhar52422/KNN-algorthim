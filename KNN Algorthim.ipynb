{
 "cells": [
  {
   "cell_type": "code",
   "execution_count": 2,
   "metadata": {},
   "outputs": [],
   "source": [
    "import math"
   ]
  },
  {
   "cell_type": "code",
   "execution_count": 3,
   "metadata": {},
   "outputs": [
    {
     "name": "stdout",
     "output_type": "stream",
     "text": [
      "[(5.220153254455275, 0), (1.118033988749895, 0), (3.0413812651491097, 0), (1.4142135623730951, 0), (4.031128874149275, 0), (2.0615528128088303, 0), (1.5, 0), (4.716990566028302, 1), (5.024937810560445, 1), (2.23606797749979, 1), (6.726812023536855, 1), (6.946221994724902, 1), (6.139218191268331, 1), (4.313930922024598, 1), (5.220153254455275, 1), (2.0615528128088303, 1)]\n",
      "Point is Perdicted as of type:  0\n"
     ]
    }
   ],
   "source": [
    "# driver function \n",
    "def eucladianDistance(trainingPoint,pq):\n",
    "    d=math.sqrt((trainingPoint[0]-pq[0])**2 +(trainingPoint[1]-pq[1])**2)\n",
    "    return (d,trainingPoint)\n",
    "    \n",
    "def classifyAPoint(points,pq,k):\n",
    "    distancePoint=list()\n",
    "    for classi in points:\n",
    "        for point in points[classi]:\n",
    "            (x,y)=eucladianDistance(point,pq)\n",
    "            distancePoint.append((x,classi))\n",
    "    print(distancePoint)\n",
    "    # sort the distance list in ascending order \n",
    "    # and select first k distances \n",
    "    distancePoint = sorted(distancePoint)[:k] \n",
    "    freq1 = 0 #frequency of group 0 \n",
    "    freq2 = 0 #frequency og group 1 \n",
    "  \n",
    "    for d in distancePoint: \n",
    "        if d[1] == 0: \n",
    "            freq1 += 1\n",
    "        elif d[1] == 1: \n",
    "            freq2 += 1\n",
    "    return 0 if freq1>freq2 else 1\n",
    "    \n",
    "def main(): \n",
    "  \n",
    "    # Dictionary of training points having two keys - 0 and 1 \n",
    "    # key 0 have points belong to class 0 \n",
    "    # key 1 have points belong to class 1 \n",
    "  \n",
    "    points = {0:[(1,12),(3,6),(3,10),(3.5,8),(2,11),(2,9),(1,7)], \n",
    "              1:[(5,3),(3,2),(1.5,9),(7,2),(6,1),(3.8,1),(5.6,4),(4,2),(2,5)]} \n",
    "  \n",
    "    # testing(query point) point p(x,y) \n",
    "    pq = (2.5,7) \n",
    "  \n",
    "    # Number of neighbours  \n",
    "    k = 3\n",
    "    print(\"Point is Perdicted as of type: \",classifyAPoint(points,pq,k))\n",
    "    #print(\"The value classified to unknown point is: {}\".\\ \n",
    "    #     format(classifyAPoint(points,p,k))) \n",
    "  \n",
    "if __name__ == '__main__': \n",
    "    main()"
   ]
  },
  {
   "cell_type": "code",
   "execution_count": 33,
   "metadata": {},
   "outputs": [
    {
     "data": {
      "text/plain": [
       "[(1, 'kldfjkdfk'),\n",
       " (2, 'ajkasjkdjhdjkasda'),\n",
       " (5, 'dsmfkjsdkfksdf'),\n",
       " (6, 'lgllglhghaaa')]"
      ]
     },
     "execution_count": 33,
     "metadata": {},
     "output_type": "execute_result"
    }
   ],
   "source": [
    "li=[(5,\"dsmfkjsdkfksdf\"),(6,\"lgllglhghaaa\"),(2,\"ajkasjkdjhdjkasda\"),(1,\"kldfjkdfk\")]\n",
    "sorted(li)"
   ]
  },
  {
   "cell_type": "code",
   "execution_count": null,
   "metadata": {},
   "outputs": [],
   "source": []
  }
 ],
 "metadata": {
  "kernelspec": {
   "display_name": "Python 3",
   "language": "python",
   "name": "python3"
  },
  "language_info": {
   "codemirror_mode": {
    "name": "ipython",
    "version": 3
   },
   "file_extension": ".py",
   "mimetype": "text/x-python",
   "name": "python",
   "nbconvert_exporter": "python",
   "pygments_lexer": "ipython3",
   "version": "3.7.3rc1"
  }
 },
 "nbformat": 4,
 "nbformat_minor": 2
}
